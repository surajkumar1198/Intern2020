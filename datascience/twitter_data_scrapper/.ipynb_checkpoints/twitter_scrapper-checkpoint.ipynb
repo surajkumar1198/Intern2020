{
 "cells": [
  {
   "cell_type": "code",
   "execution_count": 1,
   "metadata": {},
   "outputs": [
    {
     "name": "stdout",
     "output_type": "stream",
     "text": [
      "Collecting GetOldTweets3\n",
      "  Using cached https://files.pythonhosted.org/packages/ed/f4/a00c2a7c90801abc875325bb5416ce9090ac86d06a00cc887131bd73ba45/GetOldTweets3-0.0.11-py3-none-any.whl\n",
      "Collecting pyquery>=1.2.10 (from GetOldTweets3)\n",
      "  Using cached https://files.pythonhosted.org/packages/78/43/95d42e386c61cb639d1a0b94f0c0b9f0b7d6b981ad3c043a836c8b5bc68b/pyquery-1.4.1-py2.py3-none-any.whl\n",
      "Requirement already satisfied: lxml>=3.5.0 in c:\\programdata\\anaconda3\\lib\\site-packages (from GetOldTweets3) (4.4.1)\n",
      "Collecting cssselect>0.7.9 (from pyquery>=1.2.10->GetOldTweets3)\n",
      "  Using cached https://files.pythonhosted.org/packages/3b/d4/3b5c17f00cce85b9a1e6f91096e1cc8e8ede2e1be8e96b87ce1ed09e92c5/cssselect-1.1.0-py2.py3-none-any.whl\n",
      "Installing collected packages: cssselect, pyquery, GetOldTweets3\n",
      "Successfully installed GetOldTweets3-0.0.11 cssselect-1.1.0 pyquery-1.4.1\n"
     ]
    }
   ],
   "source": [
    "!pip install GetOldTweets3"
   ]
  },
  {
   "cell_type": "code",
   "execution_count": 1,
   "metadata": {},
   "outputs": [],
   "source": [
    "import numpy as np\n",
    "import pandas as pd\n",
    "import GetOldTweets3 as got\n",
    "import datetime\n",
    "import os\n",
    "from tqdm import tqdm"
   ]
  },
  {
   "cell_type": "code",
   "execution_count": 2,
   "metadata": {},
   "outputs": [],
   "source": [
    "path = r\"D:\\Covid19Data\\IBMToneAnalyzerData\\\\\""
   ]
  },
  {
   "cell_type": "code",
   "execution_count": 5,
   "metadata": {},
   "outputs": [
    {
     "name": "stderr",
     "output_type": "stream",
     "text": [
      "\n",
      "  0%|                                                                                            | 0/9 [00:00<?, ?it/s]\n",
      " 11%|█████████                                                                        | 1/9 [09:21<1:14:52, 561.57s/it]\n",
      " 22%|██████████████████                                                               | 2/9 [31:58<1:33:20, 800.10s/it]\n",
      " 33%|██████████████████████████▋                                                     | 3/9 [57:13<1:41:27, 1014.65s/it]\n",
      " 44%|███████████████████████████████████                                            | 4/9 [1:06:39<1:13:20, 880.13s/it]\n",
      " 56%|███████████████████████████████████████████▎                                  | 5/9 [1:29:09<1:08:04, 1021.04s/it]\n",
      " 67%|████████████████████████████████████████████████████                          | 6/9 [1:56:11<1:00:04, 1201.37s/it]\n",
      " 78%|███████████████████████████████████████████████████████████████                  | 7/9 [2:04:56<33:16, 998.38s/it]\n",
      " 89%|████████████████████████████████████████████████████████████████████████         | 8/9 [2:20:40<16:21, 981.97s/it]\n",
      "100%|████████████████████████████████████████████████████████████████████████████████| 9/9 [2:48:13<00:00, 1121.53s/it]\n"
     ]
    }
   ],
   "source": [
    "for i in tqdm(range(22, 32)):\n",
    "  dt = datetime.datetime(2020,3,i)\n",
    "  dt_end = dt + datetime.timedelta(days=1)\n",
    "  tweetCriteria = got.manager.TweetCriteria().setQuerySearch('corona OR covid19 OR covid OR lockdown OR coronavirus')\\\n",
    "                                            .setSince(dt.strftime(\"%Y-%m-%d\"))\\\n",
    "                                            .setUntil(dt_end.strftime(\"%Y-%m-%d\"))\\\n",
    "                                            .setLang('en')\\\n",
    "                                            .setEmoji('unicode')\\\n",
    "                                            .setMaxTweets(100)\\\n",
    "                                            .setWithin(\"1000km\")\\\n",
    "                                            .setNear(\"Bhopal,India\")\n",
    "  tweet = got.manager.TweetManager.getTweets(tweetCriteria)\n",
    "  text_tweets = [[tw.username,\n",
    "                  tw.text,\n",
    "                  tw.date,\n",
    "                  tw.retweets,\n",
    "                  tw.favorites,\n",
    "                  tw.mentions,\n",
    "                  tw.hashtags] for tw in tweet]\n",
    "      \n",
    "  news_df = pd.DataFrame(text_tweets, \n",
    "                              columns = ['user', 'text','date','favorites', 'retweets', 'mentions', 'hashtags'])\n",
    "  news_df.to_csv(path + dt.strftime(\"%Y-%m-%d\") + '.csv', index=False)"
   ]
  },
  {
   "cell_type": "code",
   "execution_count": null,
   "metadata": {},
   "outputs": [],
   "source": []
  }
 ],
 "metadata": {
  "kernelspec": {
   "display_name": "Python 3",
   "language": "python",
   "name": "python3"
  },
  "language_info": {
   "codemirror_mode": {
    "name": "ipython",
    "version": 3
   },
   "file_extension": ".py",
   "mimetype": "text/x-python",
   "name": "python",
   "nbconvert_exporter": "python",
   "pygments_lexer": "ipython3",
   "version": "3.7.4"
  }
 },
 "nbformat": 4,
 "nbformat_minor": 2
}
