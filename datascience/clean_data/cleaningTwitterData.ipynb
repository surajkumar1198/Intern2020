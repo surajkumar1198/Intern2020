{
 "cells": [
  {
   "cell_type": "code",
   "execution_count": 10,
   "metadata": {},
   "outputs": [
    {
     "name": "stdout",
     "output_type": "stream",
     "text": [
      "Collecting emoji\n",
      "  Downloading https://files.pythonhosted.org/packages/40/8d/521be7f0091fe0f2ae690cc044faf43e3445e0ff33c574eae752dd7e39fa/emoji-0.5.4.tar.gz (43kB)\n",
      "Building wheels for collected packages: emoji\n",
      "  Building wheel for emoji (setup.py): started\n",
      "  Building wheel for emoji (setup.py): finished with status 'done'\n",
      "  Created wheel for emoji: filename=emoji-0.5.4-cp37-none-any.whl size=42181 sha256=af80410788dae1738d5b55f31b1391087e8116a0b226179f5030565de0c875cc\n",
      "  Stored in directory: C:\\Users\\Suraj\\AppData\\Local\\pip\\Cache\\wheels\\2a\\a9\\0a\\4f8e8cce8074232aba240caca3fade315bb49fac68808d1a9c\n",
      "Successfully built emoji\n",
      "Installing collected packages: emoji\n",
      "Successfully installed emoji-0.5.4\n"
     ]
    }
   ],
   "source": [
    "!pip install emoji"
   ]
  },
  {
   "cell_type": "code",
   "execution_count": 3,
   "metadata": {},
   "outputs": [],
   "source": [
    "import pandas as pd\n",
    "import numpy as np\n",
    "import  matplotlib.pyplot as plt\n",
    "import os\n",
    "import emoji"
   ]
  },
  {
   "cell_type": "code",
   "execution_count": 25,
   "metadata": {},
   "outputs": [],
   "source": [
    "# Read raw datas from the raw data file\n",
    "path = r'D:\\Covid19Data\\rawData\\\\'\n",
    "files = os.listdir(path)"
   ]
  },
  {
   "cell_type": "code",
   "execution_count": 26,
   "metadata": {},
   "outputs": [],
   "source": [
    "import random\n",
    "import re\n",
    "import time\n",
    "from langdetect import detect"
   ]
  },
  {
   "cell_type": "code",
   "execution_count": 27,
   "metadata": {},
   "outputs": [],
   "source": [
    "def clean_textToLower(text):\n",
    "    text=str(text).lower()\n",
    "    return text"
   ]
  },
  {
   "cell_type": "code",
   "execution_count": 28,
   "metadata": {},
   "outputs": [],
   "source": [
    "# Clean text \n",
    "for file in files:\n",
    "    data = pd.read_csv(str(path) + file)\n",
    "    t = time.process_time()\n",
    "    clean_text = []\n",
    "    non_en = []\n",
    "    error = []\n",
    "    index = 0\n",
    "    for item in data['text']:\n",
    "        try:\n",
    "            index = index +1\n",
    "            # Delete url in text\n",
    "            item = re.sub('(http[s]?://(?:[a-zA-Z]|[0-9]|[$-_@.&+]|[!*\\(\\),]|(?:%[0-9a-fA-F][0-9a-fA-F]|(\\xa0(…)*)))+){1}','',item)\n",
    "            # Delete @\n",
    "            item = re.sub('@[a-zA-Z0-9_.-]+','',item)\n",
    "\n",
    "            try:\n",
    "                # Detect whether twitter is in English or not \n",
    "                if detect(item) == 'en':\n",
    "                    clean_text.append(item)\n",
    "                else:\n",
    "                    clean_text.append(None)\n",
    "                    non_en.append(index)\n",
    "            except:\n",
    "                error.append(index)\n",
    "                clean_text.append(None)\n",
    "        except:\n",
    "            error.append(index)\n",
    "            clean_text.append(None)\n",
    "    clean_text = pd.DataFrame(clean_text)\n",
    "    clean_text.columns=['clean_text']\n",
    "#   clean_text[\"clean_text\"] = clean_text[\"clean_text\"].apply(lambda tweet: proc(tweet))\n",
    "    data = pd.concat([data, clean_text], axis=1)\n",
    "    data = data[data.clean_text.notnull()]\n",
    "    data['clean_text']=data['clean_text'].apply(lambda x:clean_textToLower(x))\n",
    "    outputPath=r'D:\\Covid19Data\\processedData\\\\'\n",
    "    data.to_csv(str(outputPath)+file+'.csv',index=False)"
   ]
  },
  {
   "cell_type": "code",
   "execution_count": 2,
   "metadata": {},
   "outputs": [],
   "source": []
  },
  {
   "cell_type": "code",
   "execution_count": null,
   "metadata": {},
   "outputs": [],
   "source": []
  }
 ],
 "metadata": {
  "kernelspec": {
   "display_name": "Python 3",
   "language": "python",
   "name": "python3"
  },
  "language_info": {
   "codemirror_mode": {
    "name": "ipython",
    "version": 3
   },
   "file_extension": ".py",
   "mimetype": "text/x-python",
   "name": "python",
   "nbconvert_exporter": "python",
   "pygments_lexer": "ipython3",
   "version": "3.7.4"
  }
 },
 "nbformat": 4,
 "nbformat_minor": 2
}
